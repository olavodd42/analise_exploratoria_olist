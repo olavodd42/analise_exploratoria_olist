{
 "cells": [
  {
   "cell_type": "code",
   "execution_count": null,
   "id": "b31dcbd0",
   "metadata": {},
   "outputs": [],
   "source": [
    "import pandas as pd\n",
    "import numpy as np\n",
    "\n",
    "df_costumers = pd.read_csv(\"olist_customers_dataset.csv\")\n",
    "df_orders = pd.read_csv(\"olist_orders_dataset.csv\")\n",
    "df_items = pd.read_csv(\"olist_order_items_dataset.csv\")\n",
    "df_products = pd.read_csv(\"olist_products_dataset.csv\")\n",
    "df_reviews = pd.read_csv(\"olist_order_reviews_dataset.csv\")\n",
    "df_gelocations = pd.read_csv(\"olist_geolocation_dataset.csv\")"
   ]
  }
 ],
 "metadata": {
  "kernelspec": {
   "display_name": "ia",
   "language": "python",
   "name": "python3"
  },
  "language_info": {
   "name": "python",
   "version": "3.10.18"
  }
 },
 "nbformat": 4,
 "nbformat_minor": 5
}
